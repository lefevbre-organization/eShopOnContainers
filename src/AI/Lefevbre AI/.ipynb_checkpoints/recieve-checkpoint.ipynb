{
  "cells": [
    {
      "metadata": {
        "trusted": true,
        "scrolled": true
      },
      "cell_type": "code",
      "source": "import pika\n\ncredentials = pika.PlainCredentials('test', 'test')\nconnection = pika.BlockingConnection(\n    pika.ConnectionParameters(host='lefebvre.westeurope.cloudapp.azure.com', credentials=credentials))\nchannel = connection.channel()\n\n\nchannel.queue_declare(queue='hello')\n\n\ndef callback(ch, method, properties, body):\n    print(\" [x] Received %r\" % body)\n   # print(\" [x] Received %r\" % properties)\n   # print(\" [x] Received %r\" % ch)\n   # print(\" [x] Received %r\" % method)\n\nchannel.basic_consume(\n    queue='hello', on_message_callback=callback, auto_ack=True)\n\nprint(' [*] Waiting for messages. To exit press CTRL+C')\nchannel.start_consuming()",
      "execution_count": null,
      "outputs": [
        {
          "output_type": "stream",
          "text": " [*] Waiting for messages. To exit press CTRL+C\n [x] Received b'Hello World!'\n",
          "name": "stdout"
        }
      ]
    },
    {
      "metadata": {
        "trusted": true
      },
      "cell_type": "code",
      "source": "",
      "execution_count": null,
      "outputs": []
    }
  ],
  "metadata": {
    "kernelspec": {
      "name": "python36",
      "display_name": "Python 3.6",
      "language": "python"
    }
  },
  "nbformat": 4,
  "nbformat_minor": 2
}