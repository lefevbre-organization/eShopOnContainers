{
  "cells": [
    {
      "metadata": {
        "id": "RUstJXthp0V3",
        "colab_type": "code",
        "colab": {
          "autoexec": {
            "startup": false,
            "wait_interval": 0
          },
          "base_uri": "https://localhost:8080/",
          "height": 163
        },
        "outputId": "66e18104-642c-49fb-ebdd-6150d1624daf",
        "executionInfo": {
          "status": "ok",
          "timestamp": 1525915619200,
          "user_tz": 420,
          "elapsed": 2387,
          "user": {
            "displayName": "Madhu Venkatesh",
            "photoUrl": "https://lh3.googleusercontent.com/a/default-user=s128",
            "userId": "108195945269203512987"
          }
        },
        "trusted": true
      },
      "cell_type": "code",
      "source": "!pip install matplotlib",
      "execution_count": null,
      "outputs": []
    },
    {
      "metadata": {
        "id": "RzI6GYFyp5LE",
        "colab_type": "code",
        "colab": {
          "autoexec": {
            "startup": false,
            "wait_interval": 0
          }
        },
        "trusted": true
      },
      "cell_type": "code",
      "source": "import numpy as np\nimport pandas as pd\nimport matplotlib.pyplot as plt\n\nfrom sklearn.feature_extraction.text import TfidfVectorizer, ENGLISH_STOP_WORDS\nfrom sklearn.pipeline import make_pipeline\nfrom sklearn.decomposition import PCA\nfrom sklearn.cluster import KMeans, MiniBatchKMeans\nfrom sklearn.manifold import TSNE\nfrom sklearn.decomposition import TruncatedSVD \nfrom sklearn.preprocessing import normalize ",
      "execution_count": null,
      "outputs": []
    },
    {
      "metadata": {
        "id": "RU_4oQPuqNyb",
        "colab_type": "code",
        "colab": {
          "autoexec": {
            "startup": false,
            "wait_interval": 0
          }
        },
        "trusted": true
      },
      "cell_type": "code",
      "source": "emails = pd.read_csv('split_emails.csv')\nemails = emails.head(4000)",
      "execution_count": null,
      "outputs": []
    },
    {
      "metadata": {
        "id": "ppN1ub7hrUUB",
        "colab_type": "code",
        "colab": {
          "autoexec": {
            "startup": false,
            "wait_interval": 0
          }
        },
        "trusted": true
      },
      "cell_type": "code",
      "source": "def parse_raw_message(raw_message):\n    lines = raw_message.split('\\n')\n    email = {}\n    message = ''\n    keys_to_extract = ['from', 'to']\n    for line in lines:\n        if ':' not in line:\n            message += line.strip()\n            email['body'] = message\n        else:\n            pairs = line.split(':')\n            key = pairs[0].lower()\n            val = pairs[1].strip()\n            if key in keys_to_extract:\n                email[key] = val\n    return email\n\ndef parse_into_emails(messages):\n    emails = [parse_raw_message(message) for message in messages]\n    return {\n        'body': map_to_list(emails, 'body'), \n        'to': map_to_list(emails, 'to'), \n        'from_': map_to_list(emails, 'from')\n    }\n\ndef map_to_list(emails, key):\n    results = []\n    for email in emails:\n        if key not in email:\n            results.append('')\n        else:\n            results.append(email[key])\n    return results\ndef top_feats_per_cluster(X, y, features, min_tfidf=0.1, top_n=25):\n    dfs = []\n\n    labels = np.unique(y)\n    for label in labels:\n        ids = np.where(y==label) \n        feats_df = top_mean_feats(X, features, ids, min_tfidf=min_tfidf, top_n=top_n)\n        feats_df.label = label\n        dfs.append(feats_df)\n    return dfs\n\ndef plot_tfidf_classfeats_h(dfs):\n    fig = plt.figure(figsize=(12, 9), facecolor=\"w\")\n    x = np.arange(len(dfs[0]))\n    for i, df in enumerate(dfs):\n        ax = fig.add_subplot(1, len(dfs), i+1)\n        ax.spines[\"top\"].set_visible(False)\n        ax.spines[\"right\"].set_visible(False)\n        ax.set_frame_on(False)\n        ax.get_xaxis().tick_bottom()\n        ax.get_yaxis().tick_left()\n        ax.set_xlabel(\"Tf-Idf Score\", labelpad=16, fontsize=14)\n        ax.set_title(\"cluster = \" + str(df.label), fontsize=16)\n        ax.ticklabel_format(axis='x', style='sci', scilimits=(-2,2))\n        ax.barh(x, df.score, align='center', color='#7530FF')\n        ax.set_yticks(x)\n        ax.set_ylim([-1, x[-1]+1])\n        yticks = ax.set_yticklabels(df.features)\n        plt.subplots_adjust(bottom=0.09, right=0.97, left=0.15, top=0.95, wspace=0.52)\n    plt.show()\n    ",
      "execution_count": null,
      "outputs": []
    },
    {
      "metadata": {
        "id": "xbDeSDRByjV2",
        "colab_type": "code",
        "colab": {
          "autoexec": {
            "startup": false,
            "wait_interval": 0
          }
        },
        "trusted": true
      },
      "cell_type": "code",
      "source": "\ndef top_mean_feats(X, features, grp_ids=None, min_tfidf=0.1, top_n=25):\n  if grp_ids:\n      D = X[grp_ids].toarray()\n  else:\n      D = X.toarray()\n\n  D[D < min_tfidf] = 0\n  tfidf_means = np.mean(D, axis=0)\n  return top_tfidf_feats(tfidf_means, features, top_n)\n\ndef top_tfidf_feats(row, features, top_n=20):\n    topn_ids = np.argsort(row)[::-1][:top_n]\n    top_feats = [(features[i], row[i]) for i in topn_ids]\n    df = pd.DataFrame(top_feats, columns=['features', 'score'])\n    return df\n  \nclass EmailDataset: \n  def __init__(self):\n    stopwords = ENGLISH_STOP_WORDS.union(['ect', 'hou', 'com', 'recipient'])\n    self.vec = TfidfVectorizer(analyzer='word', stop_words=stopwords, max_df=0.3, min_df=2)\n    self.emails = read_email_bodies() \n\n    # train on the given email data.\n    self.train()\n  \n  def train(self):\n    self.vec_train = self.vec.fit_transform(self.emails)\n  \n  def query(self, keyword, limit):\n    vec_keyword = self.vec.transform([keyword])\n    cosine_sim = linear_kernel(vec_keyword, self.vec_train).flatten()\n    related_email_indices = cosine_sim.argsort()[:-limit:-1]\n    print(related_email_indices)\n    return related_email_indices\n\n  def find_email_by_index(self, i):\n    return self.emails.as_matrix()[i]\n  \ndef read_email_bodies():\n  emails = pd.read_csv('split_emails.csv')\n  email_df = pd.DataFrame(parse_into_emails(emails.message))\n  email_df.drop(email_df.query(\"body == '' | to == '' | from_ == ''\").index, inplace=True)\n  email_df.drop_duplicates(inplace=True)\n  return email_df['body']",
      "execution_count": null,
      "outputs": []
    },
    {
      "metadata": {
        "id": "iyYfSp3PqQSZ",
        "colab_type": "code",
        "colab": {
          "autoexec": {
            "startup": false,
            "wait_interval": 0
          }
        },
        "trusted": true
      },
      "cell_type": "code",
      "source": "email_df = pd.DataFrame(parse_into_emails(emails.message))\n",
      "execution_count": null,
      "outputs": []
    },
    {
      "metadata": {
        "id": "juhcUyA7qRPA",
        "colab_type": "code",
        "colab": {
          "autoexec": {
            "startup": false,
            "wait_interval": 0
          }
        },
        "trusted": true
      },
      "cell_type": "code",
      "source": "email_df.drop(email_df.query(\"body == '' | to == '' | from_ == ''\").index, inplace=True)\n",
      "execution_count": null,
      "outputs": []
    },
    {
      "metadata": {
        "id": "6vTHnNTSsOHT",
        "colab_type": "code",
        "colab": {
          "autoexec": {
            "startup": false,
            "wait_interval": 0
          }
        },
        "trusted": true
      },
      "cell_type": "code",
      "source": "stopwords = ENGLISH_STOP_WORDS.union(['ect', 'hou', 'com', 'recipient'])\nvect = TfidfVectorizer(analyzer='word', stop_words=stopwords, max_df=0.3, min_df=2)\n\nX = vect.fit_transform(email_df.body)\nfeatures = vect.get_feature_names()",
      "execution_count": null,
      "outputs": []
    },
    {
      "metadata": {
        "id": "jM1bSiKjsQrJ",
        "colab_type": "code",
        "colab": {
          "autoexec": {
            "startup": false,
            "wait_interval": 0
          }
        },
        "trusted": true
      },
      "cell_type": "code",
      "source": "n_clusters = 3\nclf = KMeans(n_clusters=n_clusters, \n            max_iter=100, \n            init='k-means++', \n            n_init=1)\nlabels = clf.fit_predict(X)",
      "execution_count": null,
      "outputs": []
    },
    {
      "metadata": {
        "id": "9h89vdWnsTX8",
        "colab_type": "code",
        "colab": {
          "autoexec": {
            "startup": false,
            "wait_interval": 0
          }
        },
        "trusted": true
      },
      "cell_type": "code",
      "source": "X_dense = X.todense()\npca = PCA(n_components=2).fit(X_dense)\ncoords = pca.transform(X_dense)",
      "execution_count": null,
      "outputs": []
    },
    {
      "metadata": {
        "id": "hRRjozU3sZxD",
        "colab_type": "code",
        "colab": {
          "autoexec": {
            "startup": false,
            "wait_interval": 0
          }
        },
        "trusted": true
      },
      "cell_type": "code",
      "source": "label_colors = [\"#2AB0E9\", \"#2BAF74\", \"#D7665E\", \"#CCCCCC\", \n                \"#D2CA0D\", \"#522A64\", \"#A3DB05\", \"#FC6514\"]\ncolors = [label_colors[i] for i in labels]",
      "execution_count": null,
      "outputs": []
    },
    {
      "metadata": {
        "id": "xvWdc9pQs2uX",
        "colab_type": "code",
        "colab": {
          "autoexec": {
            "startup": false,
            "wait_interval": 0
          },
          "base_uri": "https://localhost:8080/",
          "height": 367
        },
        "outputId": "36266c3a-5c4a-4c02-8c47-34b1bbbe39e4",
        "executionInfo": {
          "status": "ok",
          "timestamp": 1525997814952,
          "user_tz": 420,
          "elapsed": 997,
          "user": {
            "displayName": "Madhu Venkatesh",
            "photoUrl": "https://lh3.googleusercontent.com/a/default-user=s128",
            "userId": "108195945269203512987"
          }
        },
        "trusted": true
      },
      "cell_type": "code",
      "source": "plt.scatter(coords[:, 0], coords[:, 1], c=colors)",
      "execution_count": null,
      "outputs": []
    },
    {
      "metadata": {
        "id": "4UrECM_Ps5OQ",
        "colab_type": "code",
        "colab": {
          "autoexec": {
            "startup": false,
            "wait_interval": 0
          },
          "base_uri": "https://localhost:8080/",
          "height": 347
        },
        "outputId": "ec96fa1d-c4ea-410d-c1a7-1579830942a2",
        "executionInfo": {
          "status": "ok",
          "timestamp": 1525997816974,
          "user_tz": 420,
          "elapsed": 446,
          "user": {
            "displayName": "Madhu Venkatesh",
            "photoUrl": "https://lh3.googleusercontent.com/a/default-user=s128",
            "userId": "108195945269203512987"
          }
        },
        "trusted": true
      },
      "cell_type": "code",
      "source": "centroids = clf.cluster_centers_\ncentroid_coords = pca.transform(centroids)\nplt.scatter(centroid_coords[:, 0], centroid_coords[:, 1], marker='X', s=200, linewidths=2, c='#444d60')\nplt.show()",
      "execution_count": null,
      "outputs": []
    },
    {
      "metadata": {
        "id": "NhaUKnr5s80S",
        "colab_type": "code",
        "colab": {
          "autoexec": {
            "startup": false,
            "wait_interval": 0
          },
          "base_uri": "https://localhost:8080/",
          "height": 653
        },
        "outputId": "faccd611-181b-4160-f520-d5f2d29fb061",
        "executionInfo": {
          "status": "ok",
          "timestamp": 1525997821392,
          "user_tz": 420,
          "elapsed": 3521,
          "user": {
            "displayName": "Madhu Venkatesh",
            "photoUrl": "https://lh3.googleusercontent.com/a/default-user=s128",
            "userId": "108195945269203512987"
          }
        },
        "trusted": true
      },
      "cell_type": "code",
      "source": "plot_tfidf_classfeats_h(top_feats_per_cluster(X, labels, features, 0.1, 25))\n",
      "execution_count": null,
      "outputs": []
    },
    {
      "metadata": {
        "id": "4YjTNGIdwEre",
        "colab_type": "code",
        "colab": {
          "autoexec": {
            "startup": false,
            "wait_interval": 0
          }
        },
        "trusted": true
      },
      "cell_type": "code",
      "source": "",
      "execution_count": null,
      "outputs": []
    },
    {
      "metadata": {
        "id": "TzIVUWnKwNJE",
        "colab_type": "code",
        "colab": {
          "autoexec": {
            "startup": false,
            "wait_interval": 0
          }
        },
        "trusted": true
      },
      "cell_type": "code",
      "source": "##query",
      "execution_count": null,
      "outputs": []
    },
    {
      "metadata": {
        "id": "8lN8sEZGql2H",
        "colab_type": "code",
        "colab": {
          "autoexec": {
            "startup": false,
            "wait_interval": 0
          },
          "base_uri": "https://localhost:8080/",
          "height": 53
        },
        "outputId": "764cedbd-40b4-4ef5-fdd4-9ae3d4a05e4e",
        "executionInfo": {
          "status": "ok",
          "timestamp": 1525997833374,
          "user_tz": 420,
          "elapsed": 531,
          "user": {
            "displayName": "Madhu Venkatesh",
            "photoUrl": "https://lh3.googleusercontent.com/a/default-user=s128",
            "userId": "108195945269203512987"
          }
        },
        "trusted": true
      },
      "cell_type": "code",
      "source": "X",
      "execution_count": null,
      "outputs": []
    },
    {
      "metadata": {
        "id": "lJYgw3VtdlHr",
        "colab_type": "code",
        "colab": {
          "autoexec": {
            "startup": false,
            "wait_interval": 0
          }
        },
        "trusted": true
      },
      "cell_type": "code",
      "source": "from sklearn.feature_extraction.text import TfidfVectorizer, ENGLISH_STOP_WORDS\nfrom sklearn.metrics.pairwise import linear_kernel\nimport pandas as pd",
      "execution_count": null,
      "outputs": []
    },
    {
      "metadata": {
        "id": "zmVNtaTuj0TS",
        "colab_type": "code",
        "colab": {
          "autoexec": {
            "startup": false,
            "wait_interval": 0
          }
        },
        "trusted": true
      },
      "cell_type": "code",
      "source": "# print(X[0:2])",
      "execution_count": null,
      "outputs": []
    },
    {
      "metadata": {
        "id": "7iDd96vSkJAX",
        "colab_type": "code",
        "colab": {
          "autoexec": {
            "startup": false,
            "wait_interval": 0
          }
        },
        "trusted": true
      },
      "cell_type": "code",
      "source": "cosine_sim = linear_kernel(X[0:1], X).flatten()",
      "execution_count": null,
      "outputs": []
    },
    {
      "metadata": {
        "id": "-1efOqFxk29R",
        "colab_type": "code",
        "colab": {
          "autoexec": {
            "startup": false,
            "wait_interval": 0
          },
          "base_uri": "https://localhost:8080/",
          "height": 35
        },
        "outputId": "6dca6095-a202-4848-e788-a3ac371194fc",
        "executionInfo": {
          "status": "ok",
          "timestamp": 1525998126389,
          "user_tz": 420,
          "elapsed": 301,
          "user": {
            "displayName": "Madhu Venkatesh",
            "photoUrl": "https://lh3.googleusercontent.com/a/default-user=s128",
            "userId": "108195945269203512987"
          }
        },
        "trusted": true
      },
      "cell_type": "code",
      "source": "cosine_sim",
      "execution_count": null,
      "outputs": []
    },
    {
      "metadata": {
        "id": "EbM2uiD-k4Ox",
        "colab_type": "code",
        "colab": {
          "autoexec": {
            "startup": false,
            "wait_interval": 0
          }
        },
        "trusted": true
      },
      "cell_type": "code",
      "source": "# Finding emails related to a query.\nquery = \"john\"\n\n# Transform the query into the original vector\nvec_query = vect.transform([query])",
      "execution_count": null,
      "outputs": []
    },
    {
      "metadata": {
        "id": "cjn89C3AlBQG",
        "colab_type": "code",
        "colab": {
          "autoexec": {
            "startup": false,
            "wait_interval": 0
          }
        },
        "trusted": true
      },
      "cell_type": "code",
      "source": "cosine_sim = linear_kernel(vec_query, X).flatten()\n",
      "execution_count": null,
      "outputs": []
    },
    {
      "metadata": {
        "id": "bTqUZBbRlFg3",
        "colab_type": "code",
        "colab": {
          "autoexec": {
            "startup": false,
            "wait_interval": 0
          }
        },
        "trusted": true
      },
      "cell_type": "code",
      "source": "# Find top 10 most related emails to the query.\nrelated_email_indices = cosine_sim.argsort()[:-10:-1]\n",
      "execution_count": null,
      "outputs": []
    },
    {
      "metadata": {
        "id": "BOPKNnDnlZH_",
        "colab_type": "code",
        "colab": {
          "autoexec": {
            "startup": false,
            "wait_interval": 0
          },
          "base_uri": "https://localhost:8080/",
          "height": 35
        },
        "outputId": "5c7eaaae-744c-48c6-a359-ddb7b0cf3e40",
        "executionInfo": {
          "status": "ok",
          "timestamp": 1525998287197,
          "user_tz": 420,
          "elapsed": 322,
          "user": {
            "displayName": "Madhu Venkatesh",
            "photoUrl": "https://lh3.googleusercontent.com/a/default-user=s128",
            "userId": "108195945269203512987"
          }
        },
        "trusted": true
      },
      "cell_type": "code",
      "source": "# print out the indices of the 10 most related emails.\nprint(related_email_indices)\n",
      "execution_count": null,
      "outputs": []
    },
    {
      "metadata": {
        "id": "LLq-oHC-lahC",
        "colab_type": "code",
        "colab": {
          "autoexec": {
            "startup": false,
            "wait_interval": 0
          },
          "base_uri": "https://localhost:8080/",
          "height": 35
        },
        "outputId": "c0dee054-c833-4ddf-8a69-dac6ae78ea65",
        "executionInfo": {
          "status": "ok",
          "timestamp": 1525998324940,
          "user_tz": 420,
          "elapsed": 302,
          "user": {
            "displayName": "Madhu Venkatesh",
            "photoUrl": "https://lh3.googleusercontent.com/a/default-user=s128",
            "userId": "108195945269203512987"
          }
        },
        "trusted": true
      },
      "cell_type": "code",
      "source": "# print out the first email \nfirst_email_index = related_email_indices[0]\nprint(email_df.body.as_matrix()[first_email_index])\n",
      "execution_count": null,
      "outputs": []
    },
    {
      "metadata": {
        "id": "-TSQWqE6lotG",
        "colab_type": "code",
        "colab": {
          "autoexec": {
            "startup": false,
            "wait_interval": 0
          },
          "base_uri": "https://localhost:8080/",
          "height": 35
        },
        "outputId": "55eb1ad8-2e28-452e-fa36-66197ad0a14c",
        "executionInfo": {
          "status": "ok",
          "timestamp": 1525998574709,
          "user_tz": 420,
          "elapsed": 1902,
          "user": {
            "displayName": "Madhu Venkatesh",
            "photoUrl": "https://lh3.googleusercontent.com/a/default-user=s128",
            "userId": "108195945269203512987"
          }
        },
        "trusted": true
      },
      "cell_type": "code",
      "source": "# use the EmailDataset class to query for keywords.\nds = EmailDataset()\nresults = ds.query('trade', 10)\n",
      "execution_count": null,
      "outputs": []
    },
    {
      "metadata": {
        "id": "3TZ6dJPAl5s1",
        "colab_type": "code",
        "colab": {
          "autoexec": {
            "startup": false,
            "wait_interval": 0
          },
          "base_uri": "https://localhost:8080/",
          "height": 35
        },
        "outputId": "01e5fc48-9449-4712-c091-b3fb38215c92",
        "executionInfo": {
          "status": "ok",
          "timestamp": 1525998575675,
          "user_tz": 420,
          "elapsed": 305,
          "user": {
            "displayName": "Madhu Venkatesh",
            "photoUrl": "https://lh3.googleusercontent.com/a/default-user=s128",
            "userId": "108195945269203512987"
          }
        },
        "trusted": true
      },
      "cell_type": "code",
      "source": "# Print out the first result.\nprint(ds.find_email_by_index(results[-2]))\n",
      "execution_count": null,
      "outputs": []
    }
  ],
  "metadata": {
    "colab": {
      "name": "Untitled2.ipynb",
      "version": "0.3.2",
      "views": {},
      "default_view": {},
      "provenance": []
    },
    "kernelspec": {
      "name": "python3",
      "display_name": "Python 3",
      "language": "python"
    },
    "language_info": {
      "mimetype": "text/x-python",
      "nbconvert_exporter": "python",
      "name": "python",
      "file_extension": ".py",
      "version": "3.5.4",
      "pygments_lexer": "ipython3",
      "codemirror_mode": {
        "version": 3,
        "name": "ipython"
      }
    }
  },
  "nbformat": 4,
  "nbformat_minor": 1
}