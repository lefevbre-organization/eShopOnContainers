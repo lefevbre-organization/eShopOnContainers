{
  "cells": [
    {
      "metadata": {
        "trusted": true
      },
      "cell_type": "code",
      "source": "import pandas as pd",
      "execution_count": 1,
      "outputs": []
    },
    {
      "metadata": {
        "trusted": true
      },
      "cell_type": "code",
      "source": "enron = pd.read_csv('split_emails.csv')\nenron_subset = enron[:10000]",
      "execution_count": 2,
      "outputs": []
    },
    {
      "metadata": {
        "trusted": true
      },
      "cell_type": "code",
      "source": "enron_subset.head()",
      "execution_count": 3,
      "outputs": [
        {
          "data": {
            "text/html": "<div>\n<style scoped>\n    .dataframe tbody tr th:only-of-type {\n        vertical-align: middle;\n    }\n\n    .dataframe tbody tr th {\n        vertical-align: top;\n    }\n\n    .dataframe thead th {\n        text-align: right;\n    }\n</style>\n<table border=\"1\" class=\"dataframe\">\n  <thead>\n    <tr style=\"text-align: right;\">\n      <th></th>\n      <th>file</th>\n      <th>message</th>\n    </tr>\n  </thead>\n  <tbody>\n    <tr>\n      <th>0</th>\n      <td>allen-p/_sent_mail/1.</td>\n      <td>Message-ID: &lt;18782981.1075855378110.JavaMail.e...</td>\n    </tr>\n    <tr>\n      <th>1</th>\n      <td>allen-p/_sent_mail/10.</td>\n      <td>Message-ID: &lt;15464986.1075855378456.JavaMail.e...</td>\n    </tr>\n    <tr>\n      <th>2</th>\n      <td>allen-p/_sent_mail/100.</td>\n      <td>Message-ID: &lt;24216240.1075855687451.JavaMail.e...</td>\n    </tr>\n    <tr>\n      <th>3</th>\n      <td>allen-p/_sent_mail/1000.</td>\n      <td>Message-ID: &lt;13505866.1075863688222.JavaMail.e...</td>\n    </tr>\n    <tr>\n      <th>4</th>\n      <td>allen-p/_sent_mail/1001.</td>\n      <td>Message-ID: &lt;30922949.1075863688243.JavaMail.e...</td>\n    </tr>\n  </tbody>\n</table>\n</div>",
            "text/plain": "                       file                                            message\n0     allen-p/_sent_mail/1.  Message-ID: <18782981.1075855378110.JavaMail.e...\n1    allen-p/_sent_mail/10.  Message-ID: <15464986.1075855378456.JavaMail.e...\n2   allen-p/_sent_mail/100.  Message-ID: <24216240.1075855687451.JavaMail.e...\n3  allen-p/_sent_mail/1000.  Message-ID: <13505866.1075863688222.JavaMail.e...\n4  allen-p/_sent_mail/1001.  Message-ID: <30922949.1075863688243.JavaMail.e..."
          },
          "execution_count": 3,
          "metadata": {},
          "output_type": "execute_result"
        }
      ]
    },
    {
      "metadata": {
        "trusted": true
      },
      "cell_type": "code",
      "source": "def parse_raw_message(raw_message):\n    lines = raw_message.split('\\n')\n    email = {}\n    message = ''\n    keys_to_extract = ['from', 'to']\n    for line in lines:\n        if ':' not in line:\n            message += line.strip()\n            email['body'] = message\n        else:\n            pairs = line.split(':')\n            key = pairs[0].lower()\n            val = pairs[1].strip()\n            if key in keys_to_extract:\n                email[key] = val\n    return email",
      "execution_count": 4,
      "outputs": []
    },
    {
      "metadata": {
        "trusted": true
      },
      "cell_type": "code",
      "source": "def parse_into_emails(messages):\n    emails = [parse_raw_message(message) for message in messages]\n    return {\n        'body': map_to_list(emails, 'body'),\n        'to': map_to_list(emails, 'to'),\n        'from_': map_to_list(emails, 'from')\n    }",
      "execution_count": 5,
      "outputs": []
    },
    {
      "metadata": {
        "trusted": true
      },
      "cell_type": "code",
      "source": "def map_to_list(emails, key):\n    results = []\n    for email in emails:\n        if key not in email:\n            results.append('')\n        else:\n            results.append(email[key])\n    return results",
      "execution_count": 6,
      "outputs": []
    },
    {
      "metadata": {
        "trusted": true
      },
      "cell_type": "code",
      "source": "email_df = pd.DataFrame(parse_into_emails(enron_subset.message))\nprint(email_df.head())",
      "execution_count": 7,
      "outputs": [
        {
          "name": "stdout",
          "output_type": "stream",
          "text": "                                                body                       to  \\\n0                               Here is our forecast     tim.belden@enron.com   \n1  Traveling to have a business meeting takes the...  john.lavorato@enron.com   \n2                     test successful.  way to go!!!   leah.arsdall@enron.com   \n3  Randy,Can you send me a schedule of the salary...    randall.gay@enron.com   \n4                                                        greg.piper@enron.com   \n\n                     from_  \n0  phillip.allen@enron.com  \n1  phillip.allen@enron.com  \n2  phillip.allen@enron.com  \n3  phillip.allen@enron.com  \n4  phillip.allen@enron.com  \n"
        }
      ]
    },
    {
      "metadata": {
        "trusted": true
      },
      "cell_type": "code",
      "source": "from sklearn.feature_extraction.text import CountVectorizer",
      "execution_count": 8,
      "outputs": []
    },
    {
      "metadata": {
        "trusted": true
      },
      "cell_type": "code",
      "source": "cv = CountVectorizer(max_df=0.95, min_df=2, stop_words='english')",
      "execution_count": 9,
      "outputs": []
    },
    {
      "metadata": {
        "trusted": true
      },
      "cell_type": "code",
      "source": "dtm = cv.fit_transform(email_df['body'])",
      "execution_count": 10,
      "outputs": []
    },
    {
      "metadata": {
        "trusted": true
      },
      "cell_type": "code",
      "source": "dtm",
      "execution_count": 11,
      "outputs": [
        {
          "data": {
            "text/plain": "<10000x46835 sparse matrix of type '<class 'numpy.int64'>'\n\twith 740294 stored elements in Compressed Sparse Row format>"
          },
          "execution_count": 11,
          "metadata": {},
          "output_type": "execute_result"
        }
      ]
    },
    {
      "metadata": {
        "trusted": true
      },
      "cell_type": "code",
      "source": "from sklearn.decomposition import LatentDirichletAllocation",
      "execution_count": 12,
      "outputs": []
    },
    {
      "metadata": {
        "trusted": true
      },
      "cell_type": "code",
      "source": "LDA = LatentDirichletAllocation(n_components=6,random_state=42)",
      "execution_count": 13,
      "outputs": []
    },
    {
      "metadata": {
        "trusted": true
      },
      "cell_type": "code",
      "source": "LDA.fit(dtm)",
      "execution_count": 14,
      "outputs": [
        {
          "data": {
            "text/plain": "LatentDirichletAllocation(batch_size=128, doc_topic_prior=None,\n             evaluate_every=-1, learning_decay=0.7,\n             learning_method='batch', learning_offset=10.0,\n             max_doc_update_iter=100, max_iter=10, mean_change_tol=0.001,\n             n_components=6, n_jobs=None, n_topics=None, perp_tol=0.1,\n             random_state=42, topic_word_prior=None,\n             total_samples=1000000.0, verbose=0)"
          },
          "execution_count": 14,
          "metadata": {},
          "output_type": "execute_result"
        }
      ]
    },
    {
      "metadata": {
        "trusted": true
      },
      "cell_type": "code",
      "source": "#Get vocabulary of words\nlen(cv.get_feature_names())",
      "execution_count": 15,
      "outputs": [
        {
          "data": {
            "text/plain": "46835"
          },
          "execution_count": 15,
          "metadata": {},
          "output_type": "execute_result"
        }
      ]
    },
    {
      "metadata": {
        "trusted": true
      },
      "cell_type": "code",
      "source": "cv.get_feature_names()[30000]",
      "execution_count": 16,
      "outputs": [
        {
          "data": {
            "text/plain": "'notguarantee'"
          },
          "execution_count": 16,
          "metadata": {},
          "output_type": "execute_result"
        }
      ]
    },
    {
      "metadata": {
        "trusted": true
      },
      "cell_type": "code",
      "source": "import random",
      "execution_count": 17,
      "outputs": []
    },
    {
      "metadata": {
        "trusted": true
      },
      "cell_type": "code",
      "source": "for i in range(10):\n    random_word_id = random.randint(0,35563)\n    print(cv.get_feature_names()[random_word_id])",
      "execution_count": 18,
      "outputs": [
        {
          "name": "stdout",
          "output_type": "stream",
          "text": "collar\ngooddavid\nprojectplan\nnotwalking\nrealjukeboxfrom\n1711\nnicolaus\n20tracking\nattracted\n20than\n"
        }
      ]
    },
    {
      "metadata": {
        "trusted": true
      },
      "cell_type": "code",
      "source": "#Get the topics\nlen(LDA.components_)",
      "execution_count": 19,
      "outputs": [
        {
          "data": {
            "text/plain": "6"
          },
          "execution_count": 19,
          "metadata": {},
          "output_type": "execute_result"
        }
      ]
    },
    {
      "metadata": {
        "trusted": true
      },
      "cell_type": "code",
      "source": "LDA.components_",
      "execution_count": 20,
      "outputs": [
        {
          "data": {
            "text/plain": "array([[2.46677559e+02, 8.19635893e+02, 8.16753436e+00, ...,\n        1.67332173e-01, 1.66666670e-01, 1.66667180e-01],\n       [6.20972616e+02, 5.69957668e+02, 1.66666819e-01, ...,\n        1.66779018e-01, 1.66666669e-01, 3.16322357e+00],\n       [1.82203888e+02, 2.08756214e+01, 1.66666937e-01, ...,\n        1.66666746e-01, 4.16666665e+00, 1.66667332e-01],\n       [1.43787038e+01, 3.62850804e+00, 1.66666851e-01, ...,\n        1.66669001e-01, 1.66666670e-01, 1.66667140e-01],\n       [3.20549666e+02, 1.90450250e+02, 1.69815410e-01, ...,\n        1.67330337e-01, 1.66666669e-01, 1.70107905e-01],\n       [1.46217567e+02, 3.26452059e+02, 4.16264963e+00, ...,\n        2.16522272e+00, 1.66666668e-01, 1.66666877e-01]])"
          },
          "execution_count": 20,
          "metadata": {},
          "output_type": "execute_result"
        }
      ]
    },
    {
      "metadata": {
        "trusted": true
      },
      "cell_type": "code",
      "source": "single_topic = LDA.components_[0]",
      "execution_count": 21,
      "outputs": []
    },
    {
      "metadata": {
        "trusted": true
      },
      "cell_type": "code",
      "source": "#return index postions that would sort this array lowest to highest. Helps us find high probability words.\nsingle_topic.argsort()",
      "execution_count": 22,
      "outputs": [
        {
          "data": {
            "text/plain": "array([ 5439, 35370, 28768, ..., 38263, 19253, 40631])"
          },
          "execution_count": 22,
          "metadata": {},
          "output_type": "execute_result"
        }
      ]
    },
    {
      "metadata": {
        "trusted": true
      },
      "cell_type": "code",
      "source": "# Word most representative of this topic\nsingle_topic[5838]",
      "execution_count": 23,
      "outputs": [
        {
          "data": {
            "text/plain": "0.16666666801557883"
          },
          "execution_count": 23,
          "metadata": {},
          "output_type": "execute_result"
        }
      ]
    },
    {
      "metadata": {
        "trusted": true
      },
      "cell_type": "code",
      "source": "# Top 10 words for this topic - Index postions sorted from least to greatest\n#So TOPTENVALUES wil be the last ten values\nsingle_topic.argsort()[-10:] #<- Grab last ten values of the result of argsort",
      "execution_count": 24,
      "outputs": [
        {
          "data": {
            "text/plain": "array([ 1274, 10030, 29363,  3210, 36056, 43176,  6151, 38263, 19253,\n       40631])"
          },
          "execution_count": 24,
          "metadata": {},
          "output_type": "execute_result"
        }
      ]
    },
    {
      "metadata": {
        "trusted": true
      },
      "cell_type": "code",
      "source": "top_word_indices = single_topic.argsort()[-10:]",
      "execution_count": 25,
      "outputs": []
    },
    {
      "metadata": {
        "trusted": true
      },
      "cell_type": "code",
      "source": "for index in top_word_indices:\n    print(cv.get_feature_names()[index])",
      "execution_count": 26,
      "outputs": [
        {
          "name": "stdout",
          "output_type": "stream",
          "text": "20\nbr\nnbsp\n3d\nright\ntr\nalign\nsize\nfont\ntd\n"
        }
      ]
    },
    {
      "metadata": {
        "trusted": true
      },
      "cell_type": "code",
      "source": "for index,topic in enumerate(LDA.components_):\n    print(f'THE TOP 15 WORDS FOR TOPIC #{index}')\n    print([cv.get_feature_names()[i] for i in topic.argsort()[-15:]])\n    print('\\n')",
      "execution_count": 27,
      "outputs": [
        {
          "name": "stdout",
          "output_type": "stream",
          "text": "THE TOP 15 WORDS FOR TOPIC #0\n['class', 'phillip', 'table', '000', 'left', '20', 'br', 'nbsp', '3d', 'right', 'tr', 'align', 'size', 'font', 'td']\n\n\nTHE TOP 15 WORDS FOR TOPIC #1\n['jones', 'price', 'company', 'california', 'natural', 'year', 'market', 'electricity', 'enron', 'prices', 'state', 'energy', 'said', 'power', 'gas']\n\n\nTHE TOP 15 WORDS FOR TOPIC #2\n['hr', 'pdx', 'enron_development', 'john', '01', 'forwarded', 'allen', 'phillip', 'enronxgate', 'na', 'ees', 'corp', 'hou', 'enron', 'ect']\n\n\nTHE TOP 15 WORDS FOR TOPIC #3\n['robert', 'larry', 'smith', 'jennifer', 'ebs', 'chris', 'mark', 'jeff', 'mike', 'david', 'ees', 'mail', 'john', 'enron', 'com']\n\n\nTHE TOP 15 WORDS FOR TOPIC #4\n['713', '2001', 'receive', 'buy', 'caiso', 'information', 'offer', 'company', 'original', 'mail', 'com', 'email', 'message', 'image', '09']\n\n\nTHE TOP 15 WORDS FOR TOPIC #5\n['think', 'stock', 'like', 'energy', 'year', 'business', 'trading', 'week', 'time', 'know', 'market', 'new', 'said', 'company', 'enron']\n\n\n"
        }
      ]
    },
    {
      "metadata": {
        "trusted": true
      },
      "cell_type": "code",
      "source": "dtm",
      "execution_count": 36,
      "outputs": [
        {
          "data": {
            "text/plain": "<10000x46835 sparse matrix of type '<class 'numpy.int64'>'\n\twith 740294 stored elements in Compressed Sparse Row format>"
          },
          "execution_count": 36,
          "metadata": {},
          "output_type": "execute_result"
        }
      ]
    },
    {
      "metadata": {},
      "cell_type": "markdown",
      "source": "\n\n"
    },
    {
      "metadata": {
        "trusted": true
      },
      "cell_type": "code",
      "source": "email_df['body']",
      "execution_count": 38,
      "outputs": [
        {
          "data": {
            "text/plain": "0                                    Here is our forecast\n1       Traveling to have a business meeting takes the...\n2                          test successful.  way to go!!!\n3       Randy,Can you send me a schedule of the salary...\n4                                                        \n5       Greg,How about either next Tuesday or Thursday...\n6       Phillip Allen (pallen@enron.com)Mike Grigsby (...\n7                                                        \n8       I don't think these are required by the ISP2. ...\n9       ---------------------- Forwarded by Phillip K ...\n10      Mr. Buckner,For delivered gas behind San Diego...\n11      Lucy,Open them and save in the rentroll folder...\n12      ---------------------- Forwarded by Phillip K ...\n13      ---------------------- Forwarded by Phillip K ...\n14      Dave,Here are the names of the west desk membe...\n15                        Paula,35 million is finePhillip\n16      ---------------------- Forwarded by Phillip K ...\n17      Tim,mike grigsby is having problems with acces...\n18      ---------------------- Forwarded by Phillip K ...\n19      ---------------------- Forwarded by Phillip K ...\n20      Brenda,Please use the second check as the Octo...\n21      I think Fletch has a good CPA.  I am still doi...\n22      Brenda,Please use the second check as my Octob...\n23      ---------------------- Forwarded by Phillip K ...\n24      Liane,As we discussed yesterday, I am concerne...\n25      ---------------------- Forwarded by Phillip K ...\n26      ---------------------- Forwarded by Phillip K ...\n27      ---------------------- Forwarded by Phillip K ...\n28      Reagan,Just wanted to give you an update.  I h...\n29      Nymex expiration is during this time frame.  P...\n                              ...                        \n9970    No news on Dec yet but Nov's number for Tom is...\n9971    what is your address?  I will send what I have...\n9972    Carrie Jean Southard713-853-5472EB2644Kcsoutha...\n9973    Here is the updated economic exposure based on...\n9974    ---------------------------Enron North America...\n9975    matthew.lenhart@enron.com, bryan.hull@enron.co...\n9976    Your mom is so fat that God said \"Let there be...\n9977    thanks for showing up to the party on sunday. ...\n9978    michael.walters@enron.com, phillip.love@enron....\n9979    Is Hill available for trade?  Let me know what...\n9980                                                   10\n9981    Could you please schedule a meeting for Wednes...\n9982    where is she going?Brian HoskinsFonny invitate...\n9983    ---------------------------Enron North America...\n9984    I think we are staying in tonight.  I don't kn...\n9985    June-August were incorrect in Sitara.  I have ...\n9986      did you get the invite to the super bowl party?\n9987    david.baumbach@enron.com, lqcolombo@aol.com,mi...\n9988    count me inEnron North America Corp.Lenhart/HO...\n9989    It looks like facility charges are covered 1/2...\n9990    ---------------------------Enron North America...\n9991    I show five fixed for float swaps done for Sep...\n9992    o'neal.winfree@enron.com, timothy.blanchard@en...\n9993    sorry can't make it! you are coming to the sup...\n9994    should we tell all interested parties?Sexy, ye...\n9995    shes pretty sexy, huh?  are we getting togethe...\n9996    i copied your idea - and it screwed up your name!\n9997    ---------------------------Eric,Just a reminde...\n9998                    did you buy any enron in the 60s?\n9999    Yea, thanks for reminding me about your b-day,...\nName: body, Length: 10000, dtype: object"
          },
          "execution_count": 38,
          "metadata": {},
          "output_type": "execute_result"
        }
      ]
    },
    {
      "metadata": {
        "trusted": true
      },
      "cell_type": "code",
      "source": "topic_results = LDA.transform(dtm)",
      "execution_count": 39,
      "outputs": []
    },
    {
      "metadata": {
        "trusted": true
      },
      "cell_type": "code",
      "source": "topic_results",
      "execution_count": 45,
      "outputs": [
        {
          "data": {
            "text/plain": "array([[0.08333336, 0.58254894, 0.08380941, 0.08333336, 0.08334494,\n        0.08362998],\n       [0.15746084, 0.0027566 , 0.06011277, 0.00274561, 0.00275168,\n        0.7741725 ],\n       [0.04183417, 0.0417765 , 0.04189216, 0.04183605, 0.04183928,\n        0.79082184],\n       ...,\n       [0.02095725, 0.0209905 , 0.02110403, 0.46207704, 0.0210681 ,\n        0.45380309],\n       [0.04185273, 0.04184527, 0.48176653, 0.04225083, 0.04207714,\n        0.35020749],\n       [0.00982415, 0.00987073, 0.00983427, 0.00984988, 0.0098495 ,\n        0.95077147]])"
          },
          "execution_count": 45,
          "metadata": {},
          "output_type": "execute_result"
        }
      ]
    },
    {
      "metadata": {
        "trusted": true
      },
      "cell_type": "code",
      "source": "topic_results[0].round(2) #results show this topic of having highest probability of belonging to topic #1",
      "execution_count": 50,
      "outputs": [
        {
          "data": {
            "text/plain": "array([0.08, 0.58, 0.08, 0.08, 0.08, 0.08])"
          },
          "execution_count": 50,
          "metadata": {},
          "output_type": "execute_result"
        }
      ]
    },
    {
      "metadata": {
        "trusted": true
      },
      "cell_type": "code",
      "source": "email_df['body'][0]",
      "execution_count": 58,
      "outputs": [
        {
          "data": {
            "text/plain": "'Here is our forecast'"
          },
          "execution_count": 58,
          "metadata": {},
          "output_type": "execute_result"
        }
      ]
    },
    {
      "metadata": {
        "trusted": true
      },
      "cell_type": "code",
      "source": "email_df['Topic'] = topic_results.argmax(axis=1)",
      "execution_count": 61,
      "outputs": []
    },
    {
      "metadata": {
        "trusted": true
      },
      "cell_type": "code",
      "source": "email_df",
      "execution_count": 62,
      "outputs": [
        {
          "data": {
            "text/html": "<div>\n<style scoped>\n    .dataframe tbody tr th:only-of-type {\n        vertical-align: middle;\n    }\n\n    .dataframe tbody tr th {\n        vertical-align: top;\n    }\n\n    .dataframe thead th {\n        text-align: right;\n    }\n</style>\n<table border=\"1\" class=\"dataframe\">\n  <thead>\n    <tr style=\"text-align: right;\">\n      <th></th>\n      <th>body</th>\n      <th>to</th>\n      <th>from_</th>\n      <th>Topic</th>\n    </tr>\n  </thead>\n  <tbody>\n    <tr>\n      <th>0</th>\n      <td>Here is our forecast</td>\n      <td>tim.belden@enron.com</td>\n      <td>phillip.allen@enron.com</td>\n      <td>1</td>\n    </tr>\n    <tr>\n      <th>1</th>\n      <td>Traveling to have a business meeting takes the...</td>\n      <td>john.lavorato@enron.com</td>\n      <td>phillip.allen@enron.com</td>\n      <td>5</td>\n    </tr>\n    <tr>\n      <th>2</th>\n      <td>test successful.  way to go!!!</td>\n      <td>leah.arsdall@enron.com</td>\n      <td>phillip.allen@enron.com</td>\n      <td>5</td>\n    </tr>\n    <tr>\n      <th>3</th>\n      <td>Randy,Can you send me a schedule of the salary...</td>\n      <td>randall.gay@enron.com</td>\n      <td>phillip.allen@enron.com</td>\n      <td>5</td>\n    </tr>\n    <tr>\n      <th>4</th>\n      <td></td>\n      <td>greg.piper@enron.com</td>\n      <td>phillip.allen@enron.com</td>\n      <td>0</td>\n    </tr>\n    <tr>\n      <th>5</th>\n      <td>Greg,How about either next Tuesday or Thursday...</td>\n      <td>greg.piper@enron.com</td>\n      <td>phillip.allen@enron.com</td>\n      <td>0</td>\n    </tr>\n    <tr>\n      <th>6</th>\n      <td>Phillip Allen (pallen@enron.com)Mike Grigsby (...</td>\n      <td>david.l.johnson@enron.com, john.shafer@enron.com</td>\n      <td>phillip.allen@enron.com</td>\n      <td>3</td>\n    </tr>\n    <tr>\n      <th>7</th>\n      <td></td>\n      <td>joyce.teixeira@enron.com</td>\n      <td>phillip.allen@enron.com</td>\n      <td>0</td>\n    </tr>\n    <tr>\n      <th>8</th>\n      <td>I don't think these are required by the ISP2. ...</td>\n      <td>mark.scott@enron.com</td>\n      <td>phillip.allen@enron.com</td>\n      <td>5</td>\n    </tr>\n    <tr>\n      <th>9</th>\n      <td>---------------------- Forwarded by Phillip K ...</td>\n      <td>\"'Pallen@Enron.com'\" &lt;Pallen@Enron.com&gt;</td>\n      <td>phillip.allen@enron.com</td>\n      <td>1</td>\n    </tr>\n    <tr>\n      <th>10</th>\n      <td>Mr. Buckner,For delivered gas behind San Diego...</td>\n      <td>buck.buckner@honeywell.com</td>\n      <td>phillip.allen@enron.com</td>\n      <td>3</td>\n    </tr>\n    <tr>\n      <th>11</th>\n      <td>Lucy,Open them and save in the rentroll folder...</td>\n      <td>stagecoachmama@hotmail.com</td>\n      <td>phillip.allen@enron.com</td>\n      <td>4</td>\n    </tr>\n    <tr>\n      <th>12</th>\n      <td>---------------------- Forwarded by Phillip K ...</td>\n      <td>Richard Burchfield/HOU/ECT@ECT</td>\n      <td>phillip.allen@enron.com</td>\n      <td>1</td>\n    </tr>\n    <tr>\n      <th>13</th>\n      <td>---------------------- Forwarded by Phillip K ...</td>\n      <td>Richard Burchfield/HOU/ECT@ECT</td>\n      <td>phillip.allen@enron.com</td>\n      <td>1</td>\n    </tr>\n    <tr>\n      <th>14</th>\n      <td>Dave,Here are the names of the west desk membe...</td>\n      <td>david.delainey@enron.com</td>\n      <td>phillip.allen@enron.com</td>\n      <td>5</td>\n    </tr>\n    <tr>\n      <th>15</th>\n      <td>Paula,35 million is finePhillip</td>\n      <td>paula.harris@enron.com</td>\n      <td>phillip.allen@enron.com</td>\n      <td>2</td>\n    </tr>\n    <tr>\n      <th>16</th>\n      <td>---------------------- Forwarded by Phillip K ...</td>\n      <td>Phillip K Allen/HOU/ECT@ECT, Thomas A Martin/H...</td>\n      <td>phillip.allen@enron.com</td>\n      <td>2</td>\n    </tr>\n    <tr>\n      <th>17</th>\n      <td>Tim,mike grigsby is having problems with acces...</td>\n      <td>tim.heizenrader@enron.com</td>\n      <td>phillip.allen@enron.com</td>\n      <td>4</td>\n    </tr>\n    <tr>\n      <th>18</th>\n      <td>---------------------- Forwarded by Phillip K ...</td>\n      <td>\"Phillip Allen\" &lt;pallen@enron.com&gt;</td>\n      <td>phillip.allen@enron.com</td>\n      <td>0</td>\n    </tr>\n    <tr>\n      <th>19</th>\n      <td>---------------------- Forwarded by Phillip K ...</td>\n      <td>Mark Whitt/NA/Enron@Enron, Phillip K Allen/HOU...</td>\n      <td>phillip.allen@enron.com</td>\n      <td>2</td>\n    </tr>\n    <tr>\n      <th>20</th>\n      <td>Brenda,Please use the second check as the Octo...</td>\n      <td>bs_stone@yahoo.com</td>\n      <td>phillip.allen@enron.com</td>\n      <td>4</td>\n    </tr>\n    <tr>\n      <th>21</th>\n      <td>I think Fletch has a good CPA.  I am still doi...</td>\n      <td>stouchstone@natsource.com</td>\n      <td>phillip.allen@enron.com</td>\n      <td>5</td>\n    </tr>\n    <tr>\n      <th>22</th>\n      <td>Brenda,Please use the second check as my Octob...</td>\n      <td>bs_stone@yahoo.com</td>\n      <td>phillip.allen@enron.com</td>\n      <td>4</td>\n    </tr>\n    <tr>\n      <th>23</th>\n      <td>---------------------- Forwarded by Phillip K ...</td>\n      <td>lkuch@mh.com</td>\n      <td>phillip.allen@enron.com</td>\n      <td>0</td>\n    </tr>\n    <tr>\n      <th>24</th>\n      <td>Liane,As we discussed yesterday, I am concerne...</td>\n      <td>jeffrey.hodge@enron.com</td>\n      <td>phillip.allen@enron.com</td>\n      <td>0</td>\n    </tr>\n    <tr>\n      <th>25</th>\n      <td>---------------------- Forwarded by Phillip K ...</td>\n      <td>\"Phillip Allen\" &lt;pallen@enron.com&gt;</td>\n      <td>phillip.allen@enron.com</td>\n      <td>0</td>\n    </tr>\n    <tr>\n      <th>26</th>\n      <td>---------------------- Forwarded by Phillip K ...</td>\n      <td>\"Phillip Allen\" &lt;pallen@enron.com&gt;</td>\n      <td>phillip.allen@enron.com</td>\n      <td>0</td>\n    </tr>\n    <tr>\n      <th>27</th>\n      <td>---------------------- Forwarded by Phillip K ...</td>\n      <td>Phillip K Allen/HOU/ECT@ECT, Hunter S Shively/...</td>\n      <td>phillip.allen@enron.com</td>\n      <td>2</td>\n    </tr>\n    <tr>\n      <th>28</th>\n      <td>Reagan,Just wanted to give you an update.  I h...</td>\n      <td>rlehmann@yahoo.com</td>\n      <td>phillip.allen@enron.com</td>\n      <td>0</td>\n    </tr>\n    <tr>\n      <th>29</th>\n      <td>Nymex expiration is during this time frame.  P...</td>\n      <td>cindy.cicchetti@enron.com</td>\n      <td>phillip.allen@enron.com</td>\n      <td>1</td>\n    </tr>\n    <tr>\n      <th>...</th>\n      <td>...</td>\n      <td>...</td>\n      <td>...</td>\n      <td>...</td>\n    </tr>\n    <tr>\n      <th>9970</th>\n      <td>No news on Dec yet but Nov's number for Tom is...</td>\n      <td>Ami Chokshi/Corp/Enron@ENRON</td>\n      <td>eric.bass@enron.com</td>\n      <td>5</td>\n    </tr>\n    <tr>\n      <th>9971</th>\n      <td>what is your address?  I will send what I have...</td>\n      <td>Eric Bass/HOU/ECT@ECT</td>\n      <td>eric.bass@enron.com</td>\n      <td>5</td>\n    </tr>\n    <tr>\n      <th>9972</th>\n      <td>Carrie Jean Southard713-853-5472EB2644Kcsoutha...</td>\n      <td>jason.bass2@compaq.com</td>\n      <td>eric.bass@enron.com</td>\n      <td>3</td>\n    </tr>\n    <tr>\n      <th>9973</th>\n      <td>Here is the updated economic exposure based on...</td>\n      <td>ami.chokshi@enron.com</td>\n      <td>eric.bass@enron.com</td>\n      <td>1</td>\n    </tr>\n    <tr>\n      <th>9974</th>\n      <td>---------------------------Enron North America...</td>\n      <td>Brian Hoskins/HOU/ECT@ECT, Timothy Blanchard/H...</td>\n      <td>eric.bass@enron.com</td>\n      <td>2</td>\n    </tr>\n    <tr>\n      <th>9975</th>\n      <td>matthew.lenhart@enron.com, bryan.hull@enron.co...</td>\n      <td>brian.hoskins@enron.com, timothy.blanchard@enr...</td>\n      <td>eric.bass@enron.com</td>\n      <td>3</td>\n    </tr>\n    <tr>\n      <th>9976</th>\n      <td>Your mom is so fat that God said \"Let there be...</td>\n      <td>hector.campos@enron.com</td>\n      <td>eric.bass@enron.com</td>\n      <td>5</td>\n    </tr>\n    <tr>\n      <th>9977</th>\n      <td>thanks for showing up to the party on sunday. ...</td>\n      <td>mballases@hotmail.com</td>\n      <td>eric.bass@enron.com</td>\n      <td>5</td>\n    </tr>\n    <tr>\n      <th>9978</th>\n      <td>michael.walters@enron.com, phillip.love@enron....</td>\n      <td>brenda.herod@enron.com</td>\n      <td>eric.bass@enron.com</td>\n      <td>5</td>\n    </tr>\n    <tr>\n      <th>9979</th>\n      <td>Is Hill available for trade?  Let me know what...</td>\n      <td>harry.bucalo@enron.com</td>\n      <td>eric.bass@enron.com</td>\n      <td>5</td>\n    </tr>\n    <tr>\n      <th>9980</th>\n      <td>10</td>\n      <td>timothy.blanchard@enron.com</td>\n      <td>eric.bass@enron.com</td>\n      <td>0</td>\n    </tr>\n    <tr>\n      <th>9981</th>\n      <td>Could you please schedule a meeting for Wednes...</td>\n      <td>Eric Bass/HOU/ECT@ECT, Jeffrey C Gossett/HOU/E...</td>\n      <td>eric.bass@enron.com</td>\n      <td>2</td>\n    </tr>\n    <tr>\n      <th>9982</th>\n      <td>where is she going?Brian HoskinsFonny invitate...</td>\n      <td>Erin Cross/HOU/ECT@ECT, Chetan Paipanandiker/H...</td>\n      <td>eric.bass@enron.com</td>\n      <td>2</td>\n    </tr>\n    <tr>\n      <th>9983</th>\n      <td>---------------------------Enron North America...</td>\n      <td>\"patbelle\" &lt;patbelle@mail.ev1.net&gt;, \"Dennis Pr...</td>\n      <td>eric.bass@enron.com</td>\n      <td>2</td>\n    </tr>\n    <tr>\n      <th>9984</th>\n      <td>I think we are staying in tonight.  I don't kn...</td>\n      <td>Eric Bass/HOU/ECT@ECT</td>\n      <td>eric.bass@enron.com</td>\n      <td>4</td>\n    </tr>\n    <tr>\n      <th>9985</th>\n      <td>June-August were incorrect in Sitara.  I have ...</td>\n      <td>Shawna Flynn/HOU/ECT@ECT, Stephanie Gomes/HOU/...</td>\n      <td>eric.bass@enron.com</td>\n      <td>5</td>\n    </tr>\n    <tr>\n      <th>9986</th>\n      <td>did you get the invite to the super bowl party?</td>\n      <td>jason.bass2@compaq.com</td>\n      <td>eric.bass@enron.com</td>\n      <td>5</td>\n    </tr>\n    <tr>\n      <th>9987</th>\n      <td>david.baumbach@enron.com, lqcolombo@aol.com,mi...</td>\n      <td>Jason.Bass2@COMPAQ.com, Phillip M Love/HOU/ECT...</td>\n      <td>eric.bass@enron.com</td>\n      <td>2</td>\n    </tr>\n    <tr>\n      <th>9988</th>\n      <td>count me inEnron North America Corp.Lenhart/HO...</td>\n      <td>Eric Bass/HOU/ECT@ECT, Chad Landry/HOU/ECT@ECT...</td>\n      <td>eric.bass@enron.com</td>\n      <td>4</td>\n    </tr>\n    <tr>\n      <th>9989</th>\n      <td>It looks like facility charges are covered 1/2...</td>\n      <td>Brenda F Herod/HOU/ECT@ECT</td>\n      <td>eric.bass@enron.com</td>\n      <td>5</td>\n    </tr>\n    <tr>\n      <th>9990</th>\n      <td>---------------------------Enron North America...</td>\n      <td>Cloyresta F. Larson &lt;CFLARSON@duke-energy.com</td>\n      <td>Felecia C. Lee &lt;fclee@duke-energy.com &lt;mailto</td>\n      <td>5</td>\n    </tr>\n    <tr>\n      <th>9991</th>\n      <td>I show five fixed for float swaps done for Sep...</td>\n      <td>Shawna Flynn/HOU/ECT@ECT, Stephanie Gomes/HOU/...</td>\n      <td>eric.bass@enron.com</td>\n      <td>5</td>\n    </tr>\n    <tr>\n      <th>9992</th>\n      <td>o'neal.winfree@enron.com, timothy.blanchard@en...</td>\n      <td>Cloyresta F. Larson &lt;CFLARSON@duke-energy.com</td>\n      <td>Felecia C. Lee &lt;fclee@duke-energy.com &lt;mailto</td>\n      <td>5</td>\n    </tr>\n    <tr>\n      <th>9993</th>\n      <td>sorry can't make it! you are coming to the sup...</td>\n      <td>lenine.jeganathan@enron.com</td>\n      <td>eric.bass@enron.com</td>\n      <td>5</td>\n    </tr>\n    <tr>\n      <th>9994</th>\n      <td>should we tell all interested parties?Sexy, ye...</td>\n      <td>Brian Hoskins/HOU/ECT@ECT</td>\n      <td>eric.bass@enron.com</td>\n      <td>4</td>\n    </tr>\n    <tr>\n      <th>9995</th>\n      <td>shes pretty sexy, huh?  are we getting togethe...</td>\n      <td>Brian Hoskins/HOU/ECT@ECT</td>\n      <td>eric.bass@enron.com</td>\n      <td>4</td>\n    </tr>\n    <tr>\n      <th>9996</th>\n      <td>i copied your idea - and it screwed up your name!</td>\n      <td>danielles@jonesgranger.com</td>\n      <td>eric.bass@enron.com</td>\n      <td>5</td>\n    </tr>\n    <tr>\n      <th>9997</th>\n      <td>---------------------------Eric,Just a reminde...</td>\n      <td>Eric Bass/HOU/ECT@ECT</td>\n      <td>eric.bass@enron.com</td>\n      <td>3</td>\n    </tr>\n    <tr>\n      <th>9998</th>\n      <td>did you buy any enron in the 60s?</td>\n      <td>lwbthemarine@bigplanet.com</td>\n      <td>eric.bass@enron.com</td>\n      <td>2</td>\n    </tr>\n    <tr>\n      <th>9999</th>\n      <td>Yea, thanks for reminding me about your b-day,...</td>\n      <td>Eric Bass/HOU/ECT@ECT</td>\n      <td>eric.bass@enron.com</td>\n      <td>5</td>\n    </tr>\n  </tbody>\n</table>\n<p>10000 rows × 4 columns</p>\n</div>",
            "text/plain": "                                                   body  \\\n0                                  Here is our forecast   \n1     Traveling to have a business meeting takes the...   \n2                        test successful.  way to go!!!   \n3     Randy,Can you send me a schedule of the salary...   \n4                                                         \n5     Greg,How about either next Tuesday or Thursday...   \n6     Phillip Allen (pallen@enron.com)Mike Grigsby (...   \n7                                                         \n8     I don't think these are required by the ISP2. ...   \n9     ---------------------- Forwarded by Phillip K ...   \n10    Mr. Buckner,For delivered gas behind San Diego...   \n11    Lucy,Open them and save in the rentroll folder...   \n12    ---------------------- Forwarded by Phillip K ...   \n13    ---------------------- Forwarded by Phillip K ...   \n14    Dave,Here are the names of the west desk membe...   \n15                      Paula,35 million is finePhillip   \n16    ---------------------- Forwarded by Phillip K ...   \n17    Tim,mike grigsby is having problems with acces...   \n18    ---------------------- Forwarded by Phillip K ...   \n19    ---------------------- Forwarded by Phillip K ...   \n20    Brenda,Please use the second check as the Octo...   \n21    I think Fletch has a good CPA.  I am still doi...   \n22    Brenda,Please use the second check as my Octob...   \n23    ---------------------- Forwarded by Phillip K ...   \n24    Liane,As we discussed yesterday, I am concerne...   \n25    ---------------------- Forwarded by Phillip K ...   \n26    ---------------------- Forwarded by Phillip K ...   \n27    ---------------------- Forwarded by Phillip K ...   \n28    Reagan,Just wanted to give you an update.  I h...   \n29    Nymex expiration is during this time frame.  P...   \n...                                                 ...   \n9970  No news on Dec yet but Nov's number for Tom is...   \n9971  what is your address?  I will send what I have...   \n9972  Carrie Jean Southard713-853-5472EB2644Kcsoutha...   \n9973  Here is the updated economic exposure based on...   \n9974  ---------------------------Enron North America...   \n9975  matthew.lenhart@enron.com, bryan.hull@enron.co...   \n9976  Your mom is so fat that God said \"Let there be...   \n9977  thanks for showing up to the party on sunday. ...   \n9978  michael.walters@enron.com, phillip.love@enron....   \n9979  Is Hill available for trade?  Let me know what...   \n9980                                                 10   \n9981  Could you please schedule a meeting for Wednes...   \n9982  where is she going?Brian HoskinsFonny invitate...   \n9983  ---------------------------Enron North America...   \n9984  I think we are staying in tonight.  I don't kn...   \n9985  June-August were incorrect in Sitara.  I have ...   \n9986    did you get the invite to the super bowl party?   \n9987  david.baumbach@enron.com, lqcolombo@aol.com,mi...   \n9988  count me inEnron North America Corp.Lenhart/HO...   \n9989  It looks like facility charges are covered 1/2...   \n9990  ---------------------------Enron North America...   \n9991  I show five fixed for float swaps done for Sep...   \n9992  o'neal.winfree@enron.com, timothy.blanchard@en...   \n9993  sorry can't make it! you are coming to the sup...   \n9994  should we tell all interested parties?Sexy, ye...   \n9995  shes pretty sexy, huh?  are we getting togethe...   \n9996  i copied your idea - and it screwed up your name!   \n9997  ---------------------------Eric,Just a reminde...   \n9998                  did you buy any enron in the 60s?   \n9999  Yea, thanks for reminding me about your b-day,...   \n\n                                                     to  \\\n0                                  tim.belden@enron.com   \n1                               john.lavorato@enron.com   \n2                                leah.arsdall@enron.com   \n3                                 randall.gay@enron.com   \n4                                  greg.piper@enron.com   \n5                                  greg.piper@enron.com   \n6      david.l.johnson@enron.com, john.shafer@enron.com   \n7                              joyce.teixeira@enron.com   \n8                                  mark.scott@enron.com   \n9               \"'Pallen@Enron.com'\" <Pallen@Enron.com>   \n10                           buck.buckner@honeywell.com   \n11                           stagecoachmama@hotmail.com   \n12                       Richard Burchfield/HOU/ECT@ECT   \n13                       Richard Burchfield/HOU/ECT@ECT   \n14                             david.delainey@enron.com   \n15                               paula.harris@enron.com   \n16    Phillip K Allen/HOU/ECT@ECT, Thomas A Martin/H...   \n17                            tim.heizenrader@enron.com   \n18                   \"Phillip Allen\" <pallen@enron.com>   \n19    Mark Whitt/NA/Enron@Enron, Phillip K Allen/HOU...   \n20                                   bs_stone@yahoo.com   \n21                            stouchstone@natsource.com   \n22                                   bs_stone@yahoo.com   \n23                                         lkuch@mh.com   \n24                              jeffrey.hodge@enron.com   \n25                   \"Phillip Allen\" <pallen@enron.com>   \n26                   \"Phillip Allen\" <pallen@enron.com>   \n27    Phillip K Allen/HOU/ECT@ECT, Hunter S Shively/...   \n28                                   rlehmann@yahoo.com   \n29                            cindy.cicchetti@enron.com   \n...                                                 ...   \n9970                       Ami Chokshi/Corp/Enron@ENRON   \n9971                              Eric Bass/HOU/ECT@ECT   \n9972                             jason.bass2@compaq.com   \n9973                              ami.chokshi@enron.com   \n9974  Brian Hoskins/HOU/ECT@ECT, Timothy Blanchard/H...   \n9975  brian.hoskins@enron.com, timothy.blanchard@enr...   \n9976                            hector.campos@enron.com   \n9977                              mballases@hotmail.com   \n9978                             brenda.herod@enron.com   \n9979                             harry.bucalo@enron.com   \n9980                        timothy.blanchard@enron.com   \n9981  Eric Bass/HOU/ECT@ECT, Jeffrey C Gossett/HOU/E...   \n9982  Erin Cross/HOU/ECT@ECT, Chetan Paipanandiker/H...   \n9983  \"patbelle\" <patbelle@mail.ev1.net>, \"Dennis Pr...   \n9984                              Eric Bass/HOU/ECT@ECT   \n9985  Shawna Flynn/HOU/ECT@ECT, Stephanie Gomes/HOU/...   \n9986                             jason.bass2@compaq.com   \n9987  Jason.Bass2@COMPAQ.com, Phillip M Love/HOU/ECT...   \n9988  Eric Bass/HOU/ECT@ECT, Chad Landry/HOU/ECT@ECT...   \n9989                         Brenda F Herod/HOU/ECT@ECT   \n9990      Cloyresta F. Larson <CFLARSON@duke-energy.com   \n9991  Shawna Flynn/HOU/ECT@ECT, Stephanie Gomes/HOU/...   \n9992      Cloyresta F. Larson <CFLARSON@duke-energy.com   \n9993                        lenine.jeganathan@enron.com   \n9994                          Brian Hoskins/HOU/ECT@ECT   \n9995                          Brian Hoskins/HOU/ECT@ECT   \n9996                         danielles@jonesgranger.com   \n9997                              Eric Bass/HOU/ECT@ECT   \n9998                         lwbthemarine@bigplanet.com   \n9999                              Eric Bass/HOU/ECT@ECT   \n\n                                              from_  Topic  \n0                           phillip.allen@enron.com      1  \n1                           phillip.allen@enron.com      5  \n2                           phillip.allen@enron.com      5  \n3                           phillip.allen@enron.com      5  \n4                           phillip.allen@enron.com      0  \n5                           phillip.allen@enron.com      0  \n6                           phillip.allen@enron.com      3  \n7                           phillip.allen@enron.com      0  \n8                           phillip.allen@enron.com      5  \n9                           phillip.allen@enron.com      1  \n10                          phillip.allen@enron.com      3  \n11                          phillip.allen@enron.com      4  \n12                          phillip.allen@enron.com      1  \n13                          phillip.allen@enron.com      1  \n14                          phillip.allen@enron.com      5  \n15                          phillip.allen@enron.com      2  \n16                          phillip.allen@enron.com      2  \n17                          phillip.allen@enron.com      4  \n18                          phillip.allen@enron.com      0  \n19                          phillip.allen@enron.com      2  \n20                          phillip.allen@enron.com      4  \n21                          phillip.allen@enron.com      5  \n22                          phillip.allen@enron.com      4  \n23                          phillip.allen@enron.com      0  \n24                          phillip.allen@enron.com      0  \n25                          phillip.allen@enron.com      0  \n26                          phillip.allen@enron.com      0  \n27                          phillip.allen@enron.com      2  \n28                          phillip.allen@enron.com      0  \n29                          phillip.allen@enron.com      1  \n...                                             ...    ...  \n9970                            eric.bass@enron.com      5  \n9971                            eric.bass@enron.com      5  \n9972                            eric.bass@enron.com      3  \n9973                            eric.bass@enron.com      1  \n9974                            eric.bass@enron.com      2  \n9975                            eric.bass@enron.com      3  \n9976                            eric.bass@enron.com      5  \n9977                            eric.bass@enron.com      5  \n9978                            eric.bass@enron.com      5  \n9979                            eric.bass@enron.com      5  \n9980                            eric.bass@enron.com      0  \n9981                            eric.bass@enron.com      2  \n9982                            eric.bass@enron.com      2  \n9983                            eric.bass@enron.com      2  \n9984                            eric.bass@enron.com      4  \n9985                            eric.bass@enron.com      5  \n9986                            eric.bass@enron.com      5  \n9987                            eric.bass@enron.com      2  \n9988                            eric.bass@enron.com      4  \n9989                            eric.bass@enron.com      5  \n9990  Felecia C. Lee <fclee@duke-energy.com <mailto      5  \n9991                            eric.bass@enron.com      5  \n9992  Felecia C. Lee <fclee@duke-energy.com <mailto      5  \n9993                            eric.bass@enron.com      5  \n9994                            eric.bass@enron.com      4  \n9995                            eric.bass@enron.com      4  \n9996                            eric.bass@enron.com      5  \n9997                            eric.bass@enron.com      3  \n9998                            eric.bass@enron.com      2  \n9999                            eric.bass@enron.com      5  \n\n[10000 rows x 4 columns]"
          },
          "execution_count": 62,
          "metadata": {},
          "output_type": "execute_result"
        }
      ]
    },
    {
      "metadata": {
        "trusted": true
      },
      "cell_type": "code",
      "source": "",
      "execution_count": null,
      "outputs": []
    }
  ],
  "metadata": {
    "kernelspec": {
      "name": "python3",
      "display_name": "Python 3",
      "language": "python"
    },
    "language_info": {
      "codemirror_mode": {
        "name": "ipython",
        "version": 3
      },
      "file_extension": ".py",
      "mimetype": "text/x-python",
      "name": "python",
      "nbconvert_exporter": "python",
      "pygments_lexer": "ipython3",
      "version": "3.7.3"
    }
  },
  "nbformat": 4,
  "nbformat_minor": 2
}